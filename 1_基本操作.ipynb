{
 "cells": [
  {
   "cell_type": "markdown",
   "id": "14a43971",
   "metadata": {},
   "source": [
    "# 基本操作\n",
    "\n",
    "ここでは基本的なプログラムの書き方を紹介する\n",
    "\n",
    "## 四則演算\n",
    "まず変数を用意する。突然用意するとコンピューターが困るので丁寧に教えてあげる必要がある。"
   ]
  },
  {
   "cell_type": "code",
   "execution_count": 1,
   "id": "7e00cf2a",
   "metadata": {},
   "outputs": [],
   "source": [
    "a = 5"
   ]
  },
  {
   "cell_type": "markdown",
   "id": "7573c409",
   "metadata": {},
   "source": [
    "上記のように`a`という変数に`5`という数字を与えた。  \n",
    "プログラミングの際には、**型**と呼ばれる概念がある。\n",
    "\n",
    "\n",
    "\n",
    "| 型の名称 | 内容 |\n",
    "| -------- | ---- |\n",
    "| str      | 文字列型で単純な文字の並び |\n",
    "| int      | 整数の**値**として数字を扱う(小数は扱えない)     |\n",
    "| float    | 小数を扱うための型     |\n",
    "| bool     | `True`/`False`の二つの値のどちらかをとる     |\n",
    "| datetime | 日時を扱う型     |\n",
    "| list     | 複数のデータをまとめて扱う     |\n",
    "\n",
    "他にも様々な型がある。Pythonでは型の概念が強くないが、言語によっては極めて厳格な場合があるため、自分が扱っているデータがどの様な型か意識する必要がある。"
   ]
  },
  {
   "cell_type": "code",
   "execution_count": null,
   "id": "e8f2ece2",
   "metadata": {},
   "outputs": [],
   "source": []
  }
 ],
 "metadata": {
  "kernelspec": {
   "display_name": "Python 3 (ipykernel)",
   "language": "python",
   "name": "python3"
  },
  "language_info": {
   "codemirror_mode": {
    "name": "ipython",
    "version": 3
   },
   "file_extension": ".py",
   "mimetype": "text/x-python",
   "name": "python",
   "nbconvert_exporter": "python",
   "pygments_lexer": "ipython3",
   "version": "3.9.15"
  }
 },
 "nbformat": 4,
 "nbformat_minor": 5
}
